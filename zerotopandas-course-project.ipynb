{
 "cells": [
  {
   "cell_type": "markdown",
   "metadata": {},
   "source": [
    "# COVID19 Tweets Data Analysis\n",
    "\n",
    "Coronavirus disease (COVID-19) is an infectious disease caused by a newly discovered coronavirus.\n",
    "Most people who fall sick with COVID-19 will experience mild to moderate symptoms and recover without special treatment.\n",
    "This dataset is made in such a manner to study about the covid19 tweets all over the world.\n",
    "\n",
    "The dataset has been downloaded from Kaggle Dataset. The dataset contains one csv file i.e covid19_tweets.csv has been used in this project for the analysis. The libraries for data analysis and visualization used in this project are Numpy, Pandas, Matplotlib and Seaborn. These libraries are covered in the course by Jovian.ml named as Data Analysis with Python: Zero to Pandas.\n",
    "\n",
    "As a first step, let's upload our Jupyter notebook to [Jovian.ml](https://jovian.ml)."
   ]
  },
  {
   "cell_type": "code",
   "execution_count": 3,
   "metadata": {},
   "outputs": [],
   "source": [
    "project_name = \"covid19_tweets_data_analysis\""
   ]
  },
  {
   "cell_type": "code",
   "execution_count": 4,
   "metadata": {},
   "outputs": [],
   "source": [
    "!pip install jovian --upgrade -q"
   ]
  },
  {
   "cell_type": "code",
   "execution_count": 5,
   "metadata": {},
   "outputs": [],
   "source": [
    "import jovian"
   ]
  },
  {
   "cell_type": "code",
   "execution_count": 6,
   "metadata": {},
   "outputs": [
    {
     "data": {
      "application/javascript": [
       "window.require && require([\"base/js/namespace\"],function(Jupyter){Jupyter.notebook.save_checkpoint()})"
      ],
      "text/plain": [
       "<IPython.core.display.Javascript object>"
      ]
     },
     "metadata": {},
     "output_type": "display_data"
    },
    {
     "name": "stdout",
     "output_type": "stream",
     "text": [
      "[jovian] Attempting to save notebook..\u001b[0m\n",
      "[jovian] Updating notebook \"maneesha-negi-2000/covid19-tweets-data-analysis\" on https://jovian.ml/\u001b[0m\n",
      "[jovian] Uploading notebook..\u001b[0m\n",
      "[jovian] Capturing environment..\u001b[0m\n",
      "[jovian] Committed successfully! https://jovian.ml/maneesha-negi-2000/covid19-tweets-data-analysis\u001b[0m\n"
     ]
    },
    {
     "data": {
      "text/plain": [
       "'https://jovian.ml/maneesha-negi-2000/covid19-tweets-data-analysis'"
      ]
     },
     "execution_count": 6,
     "metadata": {},
     "output_type": "execute_result"
    }
   ],
   "source": [
    "jovian.commit(project=project_name)"
   ]
  },
  {
   "cell_type": "markdown",
   "metadata": {},
   "source": [
    "## Data Preparation and Cleaning\n",
    "\n",
    "In this section we will install and import the upgraded version of all libraries to be used in the project. After that we will analyse the dataset."
   ]
  },
  {
   "cell_type": "code",
   "execution_count": 7,
   "metadata": {},
   "outputs": [],
   "source": [
    "import numpy as np\n",
    "import pandas as pd\n",
    "import matplotlib\n",
    "import matplotlib.pyplot as plt\n",
    "import seaborn as sns"
   ]
  },
  {
   "cell_type": "code",
   "execution_count": 8,
   "metadata": {},
   "outputs": [],
   "source": [
    "#Reading the covid19_tweets.csv into tweets_df dataframe\n",
    "\n",
    "tweets_df = pd.read_csv('covid19_tweets.csv')"
   ]
  },
  {
   "cell_type": "code",
   "execution_count": 9,
   "metadata": {},
   "outputs": [
    {
     "data": {
      "text/html": [
       "<div>\n",
       "<style scoped>\n",
       "    .dataframe tbody tr th:only-of-type {\n",
       "        vertical-align: middle;\n",
       "    }\n",
       "\n",
       "    .dataframe tbody tr th {\n",
       "        vertical-align: top;\n",
       "    }\n",
       "\n",
       "    .dataframe thead th {\n",
       "        text-align: right;\n",
       "    }\n",
       "</style>\n",
       "<table border=\"1\" class=\"dataframe\">\n",
       "  <thead>\n",
       "    <tr style=\"text-align: right;\">\n",
       "      <th></th>\n",
       "      <th>user_name</th>\n",
       "      <th>user_location</th>\n",
       "      <th>user_description</th>\n",
       "      <th>user_created</th>\n",
       "      <th>user_followers</th>\n",
       "      <th>user_friends</th>\n",
       "      <th>user_favourites</th>\n",
       "      <th>user_verified</th>\n",
       "      <th>date</th>\n",
       "      <th>text</th>\n",
       "      <th>hashtags</th>\n",
       "      <th>source</th>\n",
       "      <th>is_retweet</th>\n",
       "    </tr>\n",
       "  </thead>\n",
       "  <tbody>\n",
       "    <tr>\n",
       "      <th>0</th>\n",
       "      <td>ᏉᎥ☻լꂅϮ</td>\n",
       "      <td>astroworld</td>\n",
       "      <td>wednesday addams as a disney princess keepin i...</td>\n",
       "      <td>5/26/2017 5:46</td>\n",
       "      <td>624.0</td>\n",
       "      <td>950.0</td>\n",
       "      <td>18775.0</td>\n",
       "      <td>False</td>\n",
       "      <td>7/25/2020 12:27</td>\n",
       "      <td>If I smelled the scent of hand sanitizers toda...</td>\n",
       "      <td>NaN</td>\n",
       "      <td>Twitter for iPhone</td>\n",
       "      <td>False</td>\n",
       "    </tr>\n",
       "    <tr>\n",
       "      <th>1</th>\n",
       "      <td>Tom Basile 🇺🇸</td>\n",
       "      <td>New York, NY</td>\n",
       "      <td>Husband, Father, Columnist &amp; Commentator. Auth...</td>\n",
       "      <td>4/16/2009 20:06</td>\n",
       "      <td>2253.0</td>\n",
       "      <td>1677.0</td>\n",
       "      <td>24.0</td>\n",
       "      <td>True</td>\n",
       "      <td>7/25/2020 12:27</td>\n",
       "      <td>Hey @Yankees @YankeesPR and @MLB - wouldn't it...</td>\n",
       "      <td>NaN</td>\n",
       "      <td>Twitter for Android</td>\n",
       "      <td>False</td>\n",
       "    </tr>\n",
       "    <tr>\n",
       "      <th>2</th>\n",
       "      <td>Time4fisticuffs</td>\n",
       "      <td>Pewee Valley, KY</td>\n",
       "      <td>#Christian #Catholic #Conservative #Reagan #Re...</td>\n",
       "      <td>2/28/2009 18:57</td>\n",
       "      <td>9275.0</td>\n",
       "      <td>9525.0</td>\n",
       "      <td>7254.0</td>\n",
       "      <td>False</td>\n",
       "      <td>7/25/2020 12:27</td>\n",
       "      <td>@diane3443 @wdunlap @realDonaldTrump Trump nev...</td>\n",
       "      <td>['COVID19']</td>\n",
       "      <td>Twitter for Android</td>\n",
       "      <td>False</td>\n",
       "    </tr>\n",
       "    <tr>\n",
       "      <th>3</th>\n",
       "      <td>ethel mertz</td>\n",
       "      <td>Stuck in the Middle</td>\n",
       "      <td>#Browns #Indians #ClevelandProud #[]_[] #Cavs ...</td>\n",
       "      <td>3/7/2019 1:45</td>\n",
       "      <td>197.0</td>\n",
       "      <td>987.0</td>\n",
       "      <td>1488.0</td>\n",
       "      <td>False</td>\n",
       "      <td>7/25/2020 12:27</td>\n",
       "      <td>@brookbanktv The one gift #COVID19 has give me...</td>\n",
       "      <td>['COVID19']</td>\n",
       "      <td>Twitter for iPhone</td>\n",
       "      <td>False</td>\n",
       "    </tr>\n",
       "    <tr>\n",
       "      <th>4</th>\n",
       "      <td>DIPR-J&amp;K</td>\n",
       "      <td>Jammu and Kashmir</td>\n",
       "      <td>🖊️Official Twitter handle of Department of Inf...</td>\n",
       "      <td>2/12/2017 6:45</td>\n",
       "      <td>101009.0</td>\n",
       "      <td>168.0</td>\n",
       "      <td>101.0</td>\n",
       "      <td>False</td>\n",
       "      <td>7/25/2020 12:27</td>\n",
       "      <td>25 July : Media Bulletin on Novel #CoronaVirus...</td>\n",
       "      <td>['CoronaVirusUpdates', 'COVID19']</td>\n",
       "      <td>Twitter for Android</td>\n",
       "      <td>False</td>\n",
       "    </tr>\n",
       "    <tr>\n",
       "      <th>...</th>\n",
       "      <td>...</td>\n",
       "      <td>...</td>\n",
       "      <td>...</td>\n",
       "      <td>...</td>\n",
       "      <td>...</td>\n",
       "      <td>...</td>\n",
       "      <td>...</td>\n",
       "      <td>...</td>\n",
       "      <td>...</td>\n",
       "      <td>...</td>\n",
       "      <td>...</td>\n",
       "      <td>...</td>\n",
       "      <td>...</td>\n",
       "    </tr>\n",
       "    <tr>\n",
       "      <th>44962</th>\n",
       "      <td>Kira White</td>\n",
       "      <td>St.Helens Merseyside</td>\n",
       "      <td>My views, my opinions wrote by me... If I writ...</td>\n",
       "      <td>2/29/2020 21:05</td>\n",
       "      <td>13.0</td>\n",
       "      <td>76.0</td>\n",
       "      <td>75.0</td>\n",
       "      <td>False</td>\n",
       "      <td>7/31/2020 19:09</td>\n",
       "      <td>Love this cheered me up reminds me of #maskdeb...</td>\n",
       "      <td>['maskdebate', 'debate', 'COVID19']</td>\n",
       "      <td>Twitter for Android</td>\n",
       "      <td>False</td>\n",
       "    </tr>\n",
       "    <tr>\n",
       "      <th>44963</th>\n",
       "      <td>Ministry Of Education, Malawi</td>\n",
       "      <td>Lilongwe</td>\n",
       "      <td>NaN</td>\n",
       "      <td>4/17/2020 6:49</td>\n",
       "      <td>316.0</td>\n",
       "      <td>47.0</td>\n",
       "      <td>16.0</td>\n",
       "      <td>False</td>\n",
       "      <td>7/31/2020 19:09</td>\n",
       "      <td>COVID-19 Situation update as of Friday, 31st J...</td>\n",
       "      <td>['Malawi']</td>\n",
       "      <td>Twitter for Android</td>\n",
       "      <td>False</td>\n",
       "    </tr>\n",
       "    <tr>\n",
       "      <th>44964</th>\n",
       "      <td>Miss Amy</td>\n",
       "      <td>Los Angeles, CA</td>\n",
       "      <td>Program Leader in the LA Metro area.</td>\n",
       "      <td>7/14/2020 15:37</td>\n",
       "      <td>2.0</td>\n",
       "      <td>9.0</td>\n",
       "      <td>1.0</td>\n",
       "      <td>False</td>\n",
       "      <td>7/31/2020 19:09</td>\n",
       "      <td>#Congress needs to protect every child’s funda...</td>\n",
       "      <td>['Congress']</td>\n",
       "      <td>Twitter for iPhone</td>\n",
       "      <td>False</td>\n",
       "    </tr>\n",
       "    <tr>\n",
       "      <th>44965</th>\n",
       "      <td>Libbie for Justice</td>\n",
       "      <td>Windsor Heights, Iowa</td>\n",
       "      <td>Media Professional, Small Business Owner, Husb...</td>\n",
       "      <td>7/15/2008 1:29</td>\n",
       "      <td>3916.0</td>\n",
       "      <td>2949.0</td>\n",
       "      <td>288.0</td>\n",
       "      <td>False</td>\n",
       "      <td>7/31/2020 19:09</td>\n",
       "      <td>Welcome to The Freedom Cafe!  #COVID19. https:...</td>\n",
       "      <td>['COVID19']</td>\n",
       "      <td>Hootsuite Inc.</td>\n",
       "      <td>False</td>\n",
       "    </tr>\n",
       "    <tr>\n",
       "      <th>44966</th>\n",
       "      <td>Bud Geracie</td>\n",
       "      <td>San Jose, CA</td>\n",
       "      <td>Executive Sports Ed</td>\n",
       "      <td>NaN</td>\n",
       "      <td>NaN</td>\n",
       "      <td>NaN</td>\n",
       "      <td>NaN</td>\n",
       "      <td>NaN</td>\n",
       "      <td>NaN</td>\n",
       "      <td>NaN</td>\n",
       "      <td>NaN</td>\n",
       "      <td>NaN</td>\n",
       "      <td>NaN</td>\n",
       "    </tr>\n",
       "  </tbody>\n",
       "</table>\n",
       "<p>44967 rows × 13 columns</p>\n",
       "</div>"
      ],
      "text/plain": [
       "                           user_name          user_location  \\\n",
       "0                             ᏉᎥ☻լꂅϮ             astroworld   \n",
       "1                      Tom Basile 🇺🇸           New York, NY   \n",
       "2                    Time4fisticuffs       Pewee Valley, KY   \n",
       "3                        ethel mertz   Stuck in the Middle    \n",
       "4                           DIPR-J&K      Jammu and Kashmir   \n",
       "...                              ...                    ...   \n",
       "44962                     Kira White  St.Helens Merseyside    \n",
       "44963  Ministry Of Education, Malawi               Lilongwe   \n",
       "44964                       Miss Amy        Los Angeles, CA   \n",
       "44965             Libbie for Justice  Windsor Heights, Iowa   \n",
       "44966                    Bud Geracie           San Jose, CA   \n",
       "\n",
       "                                        user_description     user_created  \\\n",
       "0      wednesday addams as a disney princess keepin i...   5/26/2017 5:46   \n",
       "1      Husband, Father, Columnist & Commentator. Auth...  4/16/2009 20:06   \n",
       "2      #Christian #Catholic #Conservative #Reagan #Re...  2/28/2009 18:57   \n",
       "3      #Browns #Indians #ClevelandProud #[]_[] #Cavs ...    3/7/2019 1:45   \n",
       "4      🖊️Official Twitter handle of Department of Inf...   2/12/2017 6:45   \n",
       "...                                                  ...              ...   \n",
       "44962  My views, my opinions wrote by me... If I writ...  2/29/2020 21:05   \n",
       "44963                                                NaN   4/17/2020 6:49   \n",
       "44964               Program Leader in the LA Metro area.  7/14/2020 15:37   \n",
       "44965  Media Professional, Small Business Owner, Husb...   7/15/2008 1:29   \n",
       "44966                                Executive Sports Ed              NaN   \n",
       "\n",
       "       user_followers  user_friends  user_favourites user_verified  \\\n",
       "0               624.0         950.0          18775.0         False   \n",
       "1              2253.0        1677.0             24.0          True   \n",
       "2              9275.0        9525.0           7254.0         False   \n",
       "3               197.0         987.0           1488.0         False   \n",
       "4            101009.0         168.0            101.0         False   \n",
       "...               ...           ...              ...           ...   \n",
       "44962            13.0          76.0             75.0         False   \n",
       "44963           316.0          47.0             16.0         False   \n",
       "44964             2.0           9.0              1.0         False   \n",
       "44965          3916.0        2949.0            288.0         False   \n",
       "44966             NaN           NaN              NaN           NaN   \n",
       "\n",
       "                  date                                               text  \\\n",
       "0      7/25/2020 12:27  If I smelled the scent of hand sanitizers toda...   \n",
       "1      7/25/2020 12:27  Hey @Yankees @YankeesPR and @MLB - wouldn't it...   \n",
       "2      7/25/2020 12:27  @diane3443 @wdunlap @realDonaldTrump Trump nev...   \n",
       "3      7/25/2020 12:27  @brookbanktv The one gift #COVID19 has give me...   \n",
       "4      7/25/2020 12:27  25 July : Media Bulletin on Novel #CoronaVirus...   \n",
       "...                ...                                                ...   \n",
       "44962  7/31/2020 19:09  Love this cheered me up reminds me of #maskdeb...   \n",
       "44963  7/31/2020 19:09  COVID-19 Situation update as of Friday, 31st J...   \n",
       "44964  7/31/2020 19:09  #Congress needs to protect every child’s funda...   \n",
       "44965  7/31/2020 19:09  Welcome to The Freedom Cafe!  #COVID19. https:...   \n",
       "44966              NaN                                                NaN   \n",
       "\n",
       "                                  hashtags               source is_retweet  \n",
       "0                                      NaN   Twitter for iPhone      False  \n",
       "1                                      NaN  Twitter for Android      False  \n",
       "2                              ['COVID19']  Twitter for Android      False  \n",
       "3                              ['COVID19']   Twitter for iPhone      False  \n",
       "4        ['CoronaVirusUpdates', 'COVID19']  Twitter for Android      False  \n",
       "...                                    ...                  ...        ...  \n",
       "44962  ['maskdebate', 'debate', 'COVID19']  Twitter for Android      False  \n",
       "44963                           ['Malawi']  Twitter for Android      False  \n",
       "44964                         ['Congress']   Twitter for iPhone      False  \n",
       "44965                          ['COVID19']       Hootsuite Inc.      False  \n",
       "44966                                  NaN                  NaN        NaN  \n",
       "\n",
       "[44967 rows x 13 columns]"
      ]
     },
     "execution_count": 9,
     "metadata": {},
     "output_type": "execute_result"
    }
   ],
   "source": [
    "#showing data tweets_df\n",
    "\n",
    "tweets_df"
   ]
  },
  {
   "cell_type": "code",
   "execution_count": 10,
   "metadata": {},
   "outputs": [
    {
     "name": "stdout",
     "output_type": "stream",
     "text": [
      "<class 'pandas.core.frame.DataFrame'>\n",
      "RangeIndex: 44967 entries, 0 to 44966\n",
      "Data columns (total 13 columns):\n",
      " #   Column            Non-Null Count  Dtype  \n",
      "---  ------            --------------  -----  \n",
      " 0   user_name         44967 non-null  object \n",
      " 1   user_location     35587 non-null  object \n",
      " 2   user_description  42362 non-null  object \n",
      " 3   user_created      44966 non-null  object \n",
      " 4   user_followers    44966 non-null  float64\n",
      " 5   user_friends      44966 non-null  float64\n",
      " 6   user_favourites   44966 non-null  float64\n",
      " 7   user_verified     44966 non-null  object \n",
      " 8   date              44966 non-null  object \n",
      " 9   text              44966 non-null  object \n",
      " 10  hashtags          32175 non-null  object \n",
      " 11  source            44962 non-null  object \n",
      " 12  is_retweet        44966 non-null  object \n",
      "dtypes: float64(3), object(10)\n",
      "memory usage: 4.5+ MB\n"
     ]
    }
   ],
   "source": [
    "#Lets check the basic information about the COVID19 Tweets dataframe\n",
    "tweets_df.info()"
   ]
  },
  {
   "cell_type": "code",
   "execution_count": 11,
   "metadata": {},
   "outputs": [
    {
     "data": {
      "text/plain": [
       "(44967, 13)"
      ]
     },
     "execution_count": 11,
     "metadata": {},
     "output_type": "execute_result"
    }
   ],
   "source": [
    "#Lets check the shape of our dataframe\n",
    "\n",
    "tweets_df.shape"
   ]
  },
  {
   "cell_type": "code",
   "execution_count": 12,
   "metadata": {},
   "outputs": [
    {
     "data": {
      "text/plain": [
       "Index(['user_name', 'user_location', 'user_description', 'user_created',\n",
       "       'user_followers', 'user_friends', 'user_favourites', 'user_verified',\n",
       "       'date', 'text', 'hashtags', 'source', 'is_retweet'],\n",
       "      dtype='object')"
      ]
     },
     "execution_count": 12,
     "metadata": {},
     "output_type": "execute_result"
    }
   ],
   "source": [
    "#To check total no of columns of tweets dataframe\n",
    "\n",
    "tweets_df.columns"
   ]
  },
  {
   "cell_type": "code",
   "execution_count": 13,
   "metadata": {},
   "outputs": [
    {
     "data": {
      "text/html": [
       "<div>\n",
       "<style scoped>\n",
       "    .dataframe tbody tr th:only-of-type {\n",
       "        vertical-align: middle;\n",
       "    }\n",
       "\n",
       "    .dataframe tbody tr th {\n",
       "        vertical-align: top;\n",
       "    }\n",
       "\n",
       "    .dataframe thead th {\n",
       "        text-align: right;\n",
       "    }\n",
       "</style>\n",
       "<table border=\"1\" class=\"dataframe\">\n",
       "  <thead>\n",
       "    <tr style=\"text-align: right;\">\n",
       "      <th></th>\n",
       "      <th>user_name</th>\n",
       "      <th>user_location</th>\n",
       "      <th>user_description</th>\n",
       "      <th>user_created</th>\n",
       "      <th>user_followers</th>\n",
       "      <th>user_friends</th>\n",
       "      <th>user_favourites</th>\n",
       "      <th>user_verified</th>\n",
       "      <th>date</th>\n",
       "      <th>text</th>\n",
       "      <th>hashtags</th>\n",
       "      <th>source</th>\n",
       "      <th>is_retweet</th>\n",
       "    </tr>\n",
       "  </thead>\n",
       "  <tbody>\n",
       "    <tr>\n",
       "      <th>0</th>\n",
       "      <td>ᏉᎥ☻լꂅϮ</td>\n",
       "      <td>astroworld</td>\n",
       "      <td>wednesday addams as a disney princess keepin i...</td>\n",
       "      <td>5/26/2017 5:46</td>\n",
       "      <td>624.0</td>\n",
       "      <td>950.0</td>\n",
       "      <td>18775.0</td>\n",
       "      <td>False</td>\n",
       "      <td>7/25/2020 12:27</td>\n",
       "      <td>If I smelled the scent of hand sanitizers toda...</td>\n",
       "      <td>NaN</td>\n",
       "      <td>Twitter for iPhone</td>\n",
       "      <td>False</td>\n",
       "    </tr>\n",
       "    <tr>\n",
       "      <th>1</th>\n",
       "      <td>Tom Basile 🇺🇸</td>\n",
       "      <td>New York, NY</td>\n",
       "      <td>Husband, Father, Columnist &amp; Commentator. Auth...</td>\n",
       "      <td>4/16/2009 20:06</td>\n",
       "      <td>2253.0</td>\n",
       "      <td>1677.0</td>\n",
       "      <td>24.0</td>\n",
       "      <td>True</td>\n",
       "      <td>7/25/2020 12:27</td>\n",
       "      <td>Hey @Yankees @YankeesPR and @MLB - wouldn't it...</td>\n",
       "      <td>NaN</td>\n",
       "      <td>Twitter for Android</td>\n",
       "      <td>False</td>\n",
       "    </tr>\n",
       "    <tr>\n",
       "      <th>2</th>\n",
       "      <td>Time4fisticuffs</td>\n",
       "      <td>Pewee Valley, KY</td>\n",
       "      <td>#Christian #Catholic #Conservative #Reagan #Re...</td>\n",
       "      <td>2/28/2009 18:57</td>\n",
       "      <td>9275.0</td>\n",
       "      <td>9525.0</td>\n",
       "      <td>7254.0</td>\n",
       "      <td>False</td>\n",
       "      <td>7/25/2020 12:27</td>\n",
       "      <td>@diane3443 @wdunlap @realDonaldTrump Trump nev...</td>\n",
       "      <td>['COVID19']</td>\n",
       "      <td>Twitter for Android</td>\n",
       "      <td>False</td>\n",
       "    </tr>\n",
       "    <tr>\n",
       "      <th>3</th>\n",
       "      <td>ethel mertz</td>\n",
       "      <td>Stuck in the Middle</td>\n",
       "      <td>#Browns #Indians #ClevelandProud #[]_[] #Cavs ...</td>\n",
       "      <td>3/7/2019 1:45</td>\n",
       "      <td>197.0</td>\n",
       "      <td>987.0</td>\n",
       "      <td>1488.0</td>\n",
       "      <td>False</td>\n",
       "      <td>7/25/2020 12:27</td>\n",
       "      <td>@brookbanktv The one gift #COVID19 has give me...</td>\n",
       "      <td>['COVID19']</td>\n",
       "      <td>Twitter for iPhone</td>\n",
       "      <td>False</td>\n",
       "    </tr>\n",
       "    <tr>\n",
       "      <th>4</th>\n",
       "      <td>DIPR-J&amp;K</td>\n",
       "      <td>Jammu and Kashmir</td>\n",
       "      <td>🖊️Official Twitter handle of Department of Inf...</td>\n",
       "      <td>2/12/2017 6:45</td>\n",
       "      <td>101009.0</td>\n",
       "      <td>168.0</td>\n",
       "      <td>101.0</td>\n",
       "      <td>False</td>\n",
       "      <td>7/25/2020 12:27</td>\n",
       "      <td>25 July : Media Bulletin on Novel #CoronaVirus...</td>\n",
       "      <td>['CoronaVirusUpdates', 'COVID19']</td>\n",
       "      <td>Twitter for Android</td>\n",
       "      <td>False</td>\n",
       "    </tr>\n",
       "    <tr>\n",
       "      <th>5</th>\n",
       "      <td>🎹 Franz Schubert</td>\n",
       "      <td>Новоро́ссия</td>\n",
       "      <td>🎼  #Новоро́ссия #Novorossiya #оставайсядома #S...</td>\n",
       "      <td>3/19/2018 16:29</td>\n",
       "      <td>1180.0</td>\n",
       "      <td>1071.0</td>\n",
       "      <td>1287.0</td>\n",
       "      <td>False</td>\n",
       "      <td>7/25/2020 12:27</td>\n",
       "      <td>#coronavirus #covid19 deaths continue to rise....</td>\n",
       "      <td>['coronavirus', 'covid19']</td>\n",
       "      <td>Twitter Web App</td>\n",
       "      <td>False</td>\n",
       "    </tr>\n",
       "    <tr>\n",
       "      <th>6</th>\n",
       "      <td>hr bartender</td>\n",
       "      <td>Gainesville, FL</td>\n",
       "      <td>Workplace tips and advice served up in a frien...</td>\n",
       "      <td>8/12/2008 18:19</td>\n",
       "      <td>79956.0</td>\n",
       "      <td>54810.0</td>\n",
       "      <td>3801.0</td>\n",
       "      <td>False</td>\n",
       "      <td>7/25/2020 12:27</td>\n",
       "      <td>How #COVID19 Will Change Work in General (and ...</td>\n",
       "      <td>['COVID19', 'Recruiting']</td>\n",
       "      <td>Buffer</td>\n",
       "      <td>False</td>\n",
       "    </tr>\n",
       "    <tr>\n",
       "      <th>7</th>\n",
       "      <td>Derbyshire LPC</td>\n",
       "      <td>NaN</td>\n",
       "      <td>NaN</td>\n",
       "      <td>2/3/2012 18:08</td>\n",
       "      <td>608.0</td>\n",
       "      <td>355.0</td>\n",
       "      <td>95.0</td>\n",
       "      <td>False</td>\n",
       "      <td>7/25/2020 12:27</td>\n",
       "      <td>You now have to wear face coverings when out s...</td>\n",
       "      <td>NaN</td>\n",
       "      <td>TweetDeck</td>\n",
       "      <td>False</td>\n",
       "    </tr>\n",
       "    <tr>\n",
       "      <th>8</th>\n",
       "      <td>Prathamesh Bendre</td>\n",
       "      <td>NaN</td>\n",
       "      <td>A poet, reiki practitioner and a student of law.</td>\n",
       "      <td>4/25/2015 8:15</td>\n",
       "      <td>25.0</td>\n",
       "      <td>29.0</td>\n",
       "      <td>18.0</td>\n",
       "      <td>False</td>\n",
       "      <td>7/25/2020 12:26</td>\n",
       "      <td>Praying for good health and recovery of @Chouh...</td>\n",
       "      <td>['covid19', 'covidPositive']</td>\n",
       "      <td>Twitter for Android</td>\n",
       "      <td>False</td>\n",
       "    </tr>\n",
       "    <tr>\n",
       "      <th>9</th>\n",
       "      <td>Member of Christ 🇨🇳🇺🇸🇮🇳🇮🇩🇧🇷🇳🇬🇧🇩🇷🇺</td>\n",
       "      <td>👇🏻location at link below👇🏻</td>\n",
       "      <td>Just as the body is one &amp; has many members, &amp; ...</td>\n",
       "      <td>8/17/2014 4:53</td>\n",
       "      <td>55201.0</td>\n",
       "      <td>34239.0</td>\n",
       "      <td>29802.0</td>\n",
       "      <td>False</td>\n",
       "      <td>7/25/2020 12:26</td>\n",
       "      <td>POPE AS GOD - Prophet Sadhu Sundar Selvaraj. W...</td>\n",
       "      <td>['HurricaneHanna', 'COVID19']</td>\n",
       "      <td>Twitter for iPhone</td>\n",
       "      <td>False</td>\n",
       "    </tr>\n",
       "  </tbody>\n",
       "</table>\n",
       "</div>"
      ],
      "text/plain": [
       "                           user_name               user_location  \\\n",
       "0                             ᏉᎥ☻լꂅϮ                  astroworld   \n",
       "1                      Tom Basile 🇺🇸                New York, NY   \n",
       "2                    Time4fisticuffs            Pewee Valley, KY   \n",
       "3                        ethel mertz        Stuck in the Middle    \n",
       "4                           DIPR-J&K           Jammu and Kashmir   \n",
       "5                   🎹 Franz Schubert                 Новоро́ссия   \n",
       "6                       hr bartender             Gainesville, FL   \n",
       "7                     Derbyshire LPC                         NaN   \n",
       "8                  Prathamesh Bendre                         NaN   \n",
       "9  Member of Christ 🇨🇳🇺🇸🇮🇳🇮🇩🇧🇷🇳🇬🇧🇩🇷🇺  👇🏻location at link below👇🏻   \n",
       "\n",
       "                                    user_description     user_created  \\\n",
       "0  wednesday addams as a disney princess keepin i...   5/26/2017 5:46   \n",
       "1  Husband, Father, Columnist & Commentator. Auth...  4/16/2009 20:06   \n",
       "2  #Christian #Catholic #Conservative #Reagan #Re...  2/28/2009 18:57   \n",
       "3  #Browns #Indians #ClevelandProud #[]_[] #Cavs ...    3/7/2019 1:45   \n",
       "4  🖊️Official Twitter handle of Department of Inf...   2/12/2017 6:45   \n",
       "5  🎼  #Новоро́ссия #Novorossiya #оставайсядома #S...  3/19/2018 16:29   \n",
       "6  Workplace tips and advice served up in a frien...  8/12/2008 18:19   \n",
       "7                                                NaN   2/3/2012 18:08   \n",
       "8   A poet, reiki practitioner and a student of law.   4/25/2015 8:15   \n",
       "9  Just as the body is one & has many members, & ...   8/17/2014 4:53   \n",
       "\n",
       "   user_followers  user_friends  user_favourites user_verified  \\\n",
       "0           624.0         950.0          18775.0         False   \n",
       "1          2253.0        1677.0             24.0          True   \n",
       "2          9275.0        9525.0           7254.0         False   \n",
       "3           197.0         987.0           1488.0         False   \n",
       "4        101009.0         168.0            101.0         False   \n",
       "5          1180.0        1071.0           1287.0         False   \n",
       "6         79956.0       54810.0           3801.0         False   \n",
       "7           608.0         355.0             95.0         False   \n",
       "8            25.0          29.0             18.0         False   \n",
       "9         55201.0       34239.0          29802.0         False   \n",
       "\n",
       "              date                                               text  \\\n",
       "0  7/25/2020 12:27  If I smelled the scent of hand sanitizers toda...   \n",
       "1  7/25/2020 12:27  Hey @Yankees @YankeesPR and @MLB - wouldn't it...   \n",
       "2  7/25/2020 12:27  @diane3443 @wdunlap @realDonaldTrump Trump nev...   \n",
       "3  7/25/2020 12:27  @brookbanktv The one gift #COVID19 has give me...   \n",
       "4  7/25/2020 12:27  25 July : Media Bulletin on Novel #CoronaVirus...   \n",
       "5  7/25/2020 12:27  #coronavirus #covid19 deaths continue to rise....   \n",
       "6  7/25/2020 12:27  How #COVID19 Will Change Work in General (and ...   \n",
       "7  7/25/2020 12:27  You now have to wear face coverings when out s...   \n",
       "8  7/25/2020 12:26  Praying for good health and recovery of @Chouh...   \n",
       "9  7/25/2020 12:26  POPE AS GOD - Prophet Sadhu Sundar Selvaraj. W...   \n",
       "\n",
       "                            hashtags               source is_retweet  \n",
       "0                                NaN   Twitter for iPhone      False  \n",
       "1                                NaN  Twitter for Android      False  \n",
       "2                        ['COVID19']  Twitter for Android      False  \n",
       "3                        ['COVID19']   Twitter for iPhone      False  \n",
       "4  ['CoronaVirusUpdates', 'COVID19']  Twitter for Android      False  \n",
       "5         ['coronavirus', 'covid19']      Twitter Web App      False  \n",
       "6          ['COVID19', 'Recruiting']               Buffer      False  \n",
       "7                                NaN            TweetDeck      False  \n",
       "8       ['covid19', 'covidPositive']  Twitter for Android      False  \n",
       "9      ['HurricaneHanna', 'COVID19']   Twitter for iPhone      False  "
      ]
     },
     "execution_count": 13,
     "metadata": {},
     "output_type": "execute_result"
    }
   ],
   "source": [
    "\n",
    "#using head  function to retreive the data\n",
    "\n",
    "tweets_df.head(10)"
   ]
  },
  {
   "cell_type": "code",
   "execution_count": 14,
   "metadata": {},
   "outputs": [
    {
     "data": {
      "text/html": [
       "<div>\n",
       "<style scoped>\n",
       "    .dataframe tbody tr th:only-of-type {\n",
       "        vertical-align: middle;\n",
       "    }\n",
       "\n",
       "    .dataframe tbody tr th {\n",
       "        vertical-align: top;\n",
       "    }\n",
       "\n",
       "    .dataframe thead th {\n",
       "        text-align: right;\n",
       "    }\n",
       "</style>\n",
       "<table border=\"1\" class=\"dataframe\">\n",
       "  <thead>\n",
       "    <tr style=\"text-align: right;\">\n",
       "      <th></th>\n",
       "      <th>user_name</th>\n",
       "      <th>user_location</th>\n",
       "      <th>user_description</th>\n",
       "      <th>user_created</th>\n",
       "      <th>user_followers</th>\n",
       "      <th>user_friends</th>\n",
       "      <th>user_favourites</th>\n",
       "      <th>user_verified</th>\n",
       "      <th>date</th>\n",
       "      <th>text</th>\n",
       "      <th>hashtags</th>\n",
       "      <th>source</th>\n",
       "      <th>is_retweet</th>\n",
       "    </tr>\n",
       "  </thead>\n",
       "  <tbody>\n",
       "    <tr>\n",
       "      <th>44957</th>\n",
       "      <td>Phil Williams</td>\n",
       "      <td>Nashville, TN</td>\n",
       "      <td>Chief investigative reporter, WTVF, @NC5. Reci...</td>\n",
       "      <td>8/18/2010 20:42</td>\n",
       "      <td>18389.0</td>\n",
       "      <td>2489.0</td>\n",
       "      <td>7728.0</td>\n",
       "      <td>True</td>\n",
       "      <td>7/31/2020 19:09</td>\n",
       "      <td>GET THIS: 62,450 of Tennessee's 105,959 confir...</td>\n",
       "      <td>['COVID19']</td>\n",
       "      <td>Twitter Web App</td>\n",
       "      <td>False</td>\n",
       "    </tr>\n",
       "    <tr>\n",
       "      <th>44958</th>\n",
       "      <td>Judyth Mermelstein</td>\n",
       "      <td>Canada Tiohtiak:ke</td>\n",
       "      <td>freelance writer, editor, translator (francais...</td>\n",
       "      <td>2/17/2012 15:21</td>\n",
       "      <td>3868.0</td>\n",
       "      <td>5001.0</td>\n",
       "      <td>52218.0</td>\n",
       "      <td>False</td>\n",
       "      <td>7/31/2020 19:09</td>\n",
       "      <td>@TypesAndSpells Yoh know what's really stupid?...</td>\n",
       "      <td>NaN</td>\n",
       "      <td>Twitter for iPhone</td>\n",
       "      <td>False</td>\n",
       "    </tr>\n",
       "    <tr>\n",
       "      <th>44959</th>\n",
       "      <td>Priscilla Sagar, EdD, RN, CTN-A, FAAN</td>\n",
       "      <td>United States</td>\n",
       "      <td>#NurseEducator #mentor, #CertifiedTranscultura...</td>\n",
       "      <td>10/22/2016 19:13</td>\n",
       "      <td>1235.0</td>\n",
       "      <td>1643.0</td>\n",
       "      <td>3058.0</td>\n",
       "      <td>False</td>\n",
       "      <td>7/31/2020 19:09</td>\n",
       "      <td>Additional free, 3-hour course on @coursera :\\...</td>\n",
       "      <td>['COVID19', 'ContactTracing']</td>\n",
       "      <td>Twitter Web App</td>\n",
       "      <td>False</td>\n",
       "    </tr>\n",
       "    <tr>\n",
       "      <th>44960</th>\n",
       "      <td>Adanna Nwachukwu</td>\n",
       "      <td>NaN</td>\n",
       "      <td>Am result oriented, fun to be with, happy to l...</td>\n",
       "      <td>7/31/2020 1:22</td>\n",
       "      <td>13.0</td>\n",
       "      <td>18.0</td>\n",
       "      <td>7.0</td>\n",
       "      <td>False</td>\n",
       "      <td>7/31/2020 19:09</td>\n",
       "      <td>Do you know that appearance says alot about a ...</td>\n",
       "      <td>NaN</td>\n",
       "      <td>Twitter for Android</td>\n",
       "      <td>False</td>\n",
       "    </tr>\n",
       "    <tr>\n",
       "      <th>44961</th>\n",
       "      <td>Enda Young</td>\n",
       "      <td>Belfast</td>\n",
       "      <td>Prog. Director @LeadershipQUB @QUBelfast | Co-...</td>\n",
       "      <td>1/5/2009 19:06</td>\n",
       "      <td>3081.0</td>\n",
       "      <td>4999.0</td>\n",
       "      <td>9203.0</td>\n",
       "      <td>False</td>\n",
       "      <td>7/31/2020 19:09</td>\n",
       "      <td>Great to see the new StopCOVID NI App already ...</td>\n",
       "      <td>NaN</td>\n",
       "      <td>Twitter for iPhone</td>\n",
       "      <td>False</td>\n",
       "    </tr>\n",
       "    <tr>\n",
       "      <th>44962</th>\n",
       "      <td>Kira White</td>\n",
       "      <td>St.Helens Merseyside</td>\n",
       "      <td>My views, my opinions wrote by me... If I writ...</td>\n",
       "      <td>2/29/2020 21:05</td>\n",
       "      <td>13.0</td>\n",
       "      <td>76.0</td>\n",
       "      <td>75.0</td>\n",
       "      <td>False</td>\n",
       "      <td>7/31/2020 19:09</td>\n",
       "      <td>Love this cheered me up reminds me of #maskdeb...</td>\n",
       "      <td>['maskdebate', 'debate', 'COVID19']</td>\n",
       "      <td>Twitter for Android</td>\n",
       "      <td>False</td>\n",
       "    </tr>\n",
       "    <tr>\n",
       "      <th>44963</th>\n",
       "      <td>Ministry Of Education, Malawi</td>\n",
       "      <td>Lilongwe</td>\n",
       "      <td>NaN</td>\n",
       "      <td>4/17/2020 6:49</td>\n",
       "      <td>316.0</td>\n",
       "      <td>47.0</td>\n",
       "      <td>16.0</td>\n",
       "      <td>False</td>\n",
       "      <td>7/31/2020 19:09</td>\n",
       "      <td>COVID-19 Situation update as of Friday, 31st J...</td>\n",
       "      <td>['Malawi']</td>\n",
       "      <td>Twitter for Android</td>\n",
       "      <td>False</td>\n",
       "    </tr>\n",
       "    <tr>\n",
       "      <th>44964</th>\n",
       "      <td>Miss Amy</td>\n",
       "      <td>Los Angeles, CA</td>\n",
       "      <td>Program Leader in the LA Metro area.</td>\n",
       "      <td>7/14/2020 15:37</td>\n",
       "      <td>2.0</td>\n",
       "      <td>9.0</td>\n",
       "      <td>1.0</td>\n",
       "      <td>False</td>\n",
       "      <td>7/31/2020 19:09</td>\n",
       "      <td>#Congress needs to protect every child’s funda...</td>\n",
       "      <td>['Congress']</td>\n",
       "      <td>Twitter for iPhone</td>\n",
       "      <td>False</td>\n",
       "    </tr>\n",
       "    <tr>\n",
       "      <th>44965</th>\n",
       "      <td>Libbie for Justice</td>\n",
       "      <td>Windsor Heights, Iowa</td>\n",
       "      <td>Media Professional, Small Business Owner, Husb...</td>\n",
       "      <td>7/15/2008 1:29</td>\n",
       "      <td>3916.0</td>\n",
       "      <td>2949.0</td>\n",
       "      <td>288.0</td>\n",
       "      <td>False</td>\n",
       "      <td>7/31/2020 19:09</td>\n",
       "      <td>Welcome to The Freedom Cafe!  #COVID19. https:...</td>\n",
       "      <td>['COVID19']</td>\n",
       "      <td>Hootsuite Inc.</td>\n",
       "      <td>False</td>\n",
       "    </tr>\n",
       "    <tr>\n",
       "      <th>44966</th>\n",
       "      <td>Bud Geracie</td>\n",
       "      <td>San Jose, CA</td>\n",
       "      <td>Executive Sports Ed</td>\n",
       "      <td>NaN</td>\n",
       "      <td>NaN</td>\n",
       "      <td>NaN</td>\n",
       "      <td>NaN</td>\n",
       "      <td>NaN</td>\n",
       "      <td>NaN</td>\n",
       "      <td>NaN</td>\n",
       "      <td>NaN</td>\n",
       "      <td>NaN</td>\n",
       "      <td>NaN</td>\n",
       "    </tr>\n",
       "  </tbody>\n",
       "</table>\n",
       "</div>"
      ],
      "text/plain": [
       "                                   user_name          user_location  \\\n",
       "44957                          Phil Williams          Nashville, TN   \n",
       "44958                     Judyth Mermelstein     Canada Tiohtiak:ke   \n",
       "44959  Priscilla Sagar, EdD, RN, CTN-A, FAAN          United States   \n",
       "44960                       Adanna Nwachukwu                    NaN   \n",
       "44961                             Enda Young                Belfast   \n",
       "44962                             Kira White  St.Helens Merseyside    \n",
       "44963          Ministry Of Education, Malawi               Lilongwe   \n",
       "44964                               Miss Amy        Los Angeles, CA   \n",
       "44965                     Libbie for Justice  Windsor Heights, Iowa   \n",
       "44966                            Bud Geracie           San Jose, CA   \n",
       "\n",
       "                                        user_description      user_created  \\\n",
       "44957  Chief investigative reporter, WTVF, @NC5. Reci...   8/18/2010 20:42   \n",
       "44958  freelance writer, editor, translator (francais...   2/17/2012 15:21   \n",
       "44959  #NurseEducator #mentor, #CertifiedTranscultura...  10/22/2016 19:13   \n",
       "44960  Am result oriented, fun to be with, happy to l...    7/31/2020 1:22   \n",
       "44961  Prog. Director @LeadershipQUB @QUBelfast | Co-...    1/5/2009 19:06   \n",
       "44962  My views, my opinions wrote by me... If I writ...   2/29/2020 21:05   \n",
       "44963                                                NaN    4/17/2020 6:49   \n",
       "44964               Program Leader in the LA Metro area.   7/14/2020 15:37   \n",
       "44965  Media Professional, Small Business Owner, Husb...    7/15/2008 1:29   \n",
       "44966                                Executive Sports Ed               NaN   \n",
       "\n",
       "       user_followers  user_friends  user_favourites user_verified  \\\n",
       "44957         18389.0        2489.0           7728.0          True   \n",
       "44958          3868.0        5001.0          52218.0         False   \n",
       "44959          1235.0        1643.0           3058.0         False   \n",
       "44960            13.0          18.0              7.0         False   \n",
       "44961          3081.0        4999.0           9203.0         False   \n",
       "44962            13.0          76.0             75.0         False   \n",
       "44963           316.0          47.0             16.0         False   \n",
       "44964             2.0           9.0              1.0         False   \n",
       "44965          3916.0        2949.0            288.0         False   \n",
       "44966             NaN           NaN              NaN           NaN   \n",
       "\n",
       "                  date                                               text  \\\n",
       "44957  7/31/2020 19:09  GET THIS: 62,450 of Tennessee's 105,959 confir...   \n",
       "44958  7/31/2020 19:09  @TypesAndSpells Yoh know what's really stupid?...   \n",
       "44959  7/31/2020 19:09  Additional free, 3-hour course on @coursera :\\...   \n",
       "44960  7/31/2020 19:09  Do you know that appearance says alot about a ...   \n",
       "44961  7/31/2020 19:09  Great to see the new StopCOVID NI App already ...   \n",
       "44962  7/31/2020 19:09  Love this cheered me up reminds me of #maskdeb...   \n",
       "44963  7/31/2020 19:09  COVID-19 Situation update as of Friday, 31st J...   \n",
       "44964  7/31/2020 19:09  #Congress needs to protect every child’s funda...   \n",
       "44965  7/31/2020 19:09  Welcome to The Freedom Cafe!  #COVID19. https:...   \n",
       "44966              NaN                                                NaN   \n",
       "\n",
       "                                  hashtags               source is_retweet  \n",
       "44957                          ['COVID19']      Twitter Web App      False  \n",
       "44958                                  NaN   Twitter for iPhone      False  \n",
       "44959        ['COVID19', 'ContactTracing']      Twitter Web App      False  \n",
       "44960                                  NaN  Twitter for Android      False  \n",
       "44961                                  NaN   Twitter for iPhone      False  \n",
       "44962  ['maskdebate', 'debate', 'COVID19']  Twitter for Android      False  \n",
       "44963                           ['Malawi']  Twitter for Android      False  \n",
       "44964                         ['Congress']   Twitter for iPhone      False  \n",
       "44965                          ['COVID19']       Hootsuite Inc.      False  \n",
       "44966                                  NaN                  NaN        NaN  "
      ]
     },
     "execution_count": 14,
     "metadata": {},
     "output_type": "execute_result"
    }
   ],
   "source": [
    "#using tail function to retreive the data\n",
    "\n",
    "tweets_df.tail(10)"
   ]
  },
  {
   "cell_type": "code",
   "execution_count": 15,
   "metadata": {},
   "outputs": [
    {
     "data": {
      "text/plain": [
       "user_name           28209\n",
       "user_location        9889\n",
       "user_description    26675\n",
       "user_created        28462\n",
       "user_followers      10890\n",
       "user_friends         5954\n",
       "user_favourites     14592\n",
       "user_verified           2\n",
       "date                 1860\n",
       "text                44883\n",
       "hashtags            14713\n",
       "source                362\n",
       "is_retweet              1\n",
       "dtype: int64"
      ]
     },
     "execution_count": 15,
     "metadata": {},
     "output_type": "execute_result"
    }
   ],
   "source": [
    "#lets check the nunique values in the data frame,it ignores the nan values\n",
    "\n",
    "tweets_df.nunique()"
   ]
  },
  {
   "cell_type": "code",
   "execution_count": 16,
   "metadata": {},
   "outputs": [],
   "source": [
    "tw_df=tweets_df.copy()\n"
   ]
  },
  {
   "cell_type": "code",
   "execution_count": 17,
   "metadata": {},
   "outputs": [
    {
     "data": {
      "text/html": [
       "<div>\n",
       "<style scoped>\n",
       "    .dataframe tbody tr th:only-of-type {\n",
       "        vertical-align: middle;\n",
       "    }\n",
       "\n",
       "    .dataframe tbody tr th {\n",
       "        vertical-align: top;\n",
       "    }\n",
       "\n",
       "    .dataframe thead th {\n",
       "        text-align: right;\n",
       "    }\n",
       "</style>\n",
       "<table border=\"1\" class=\"dataframe\">\n",
       "  <thead>\n",
       "    <tr style=\"text-align: right;\">\n",
       "      <th></th>\n",
       "      <th>user_name</th>\n",
       "      <th>user_location</th>\n",
       "      <th>user_description</th>\n",
       "      <th>user_created</th>\n",
       "      <th>user_followers</th>\n",
       "      <th>user_friends</th>\n",
       "      <th>user_favourites</th>\n",
       "      <th>user_verified</th>\n",
       "      <th>date</th>\n",
       "      <th>text</th>\n",
       "      <th>hashtags</th>\n",
       "      <th>source</th>\n",
       "      <th>is_retweet</th>\n",
       "    </tr>\n",
       "  </thead>\n",
       "  <tbody>\n",
       "    <tr>\n",
       "      <th>0</th>\n",
       "      <td>ᏉᎥ☻լꂅϮ</td>\n",
       "      <td>astroworld</td>\n",
       "      <td>wednesday addams as a disney princess keepin i...</td>\n",
       "      <td>5/26/2017 5:46</td>\n",
       "      <td>624.0</td>\n",
       "      <td>950.0</td>\n",
       "      <td>18775.0</td>\n",
       "      <td>False</td>\n",
       "      <td>7/25/2020 12:27</td>\n",
       "      <td>If I smelled the scent of hand sanitizers toda...</td>\n",
       "      <td>NaN</td>\n",
       "      <td>Twitter for iPhone</td>\n",
       "      <td>False</td>\n",
       "    </tr>\n",
       "    <tr>\n",
       "      <th>1</th>\n",
       "      <td>Tom Basile 🇺🇸</td>\n",
       "      <td>New York, NY</td>\n",
       "      <td>Husband, Father, Columnist &amp; Commentator. Auth...</td>\n",
       "      <td>4/16/2009 20:06</td>\n",
       "      <td>2253.0</td>\n",
       "      <td>1677.0</td>\n",
       "      <td>24.0</td>\n",
       "      <td>True</td>\n",
       "      <td>7/25/2020 12:27</td>\n",
       "      <td>Hey @Yankees @YankeesPR and @MLB - wouldn't it...</td>\n",
       "      <td>NaN</td>\n",
       "      <td>Twitter for Android</td>\n",
       "      <td>False</td>\n",
       "    </tr>\n",
       "    <tr>\n",
       "      <th>2</th>\n",
       "      <td>Time4fisticuffs</td>\n",
       "      <td>Pewee Valley, KY</td>\n",
       "      <td>#Christian #Catholic #Conservative #Reagan #Re...</td>\n",
       "      <td>2/28/2009 18:57</td>\n",
       "      <td>9275.0</td>\n",
       "      <td>9525.0</td>\n",
       "      <td>7254.0</td>\n",
       "      <td>False</td>\n",
       "      <td>7/25/2020 12:27</td>\n",
       "      <td>@diane3443 @wdunlap @realDonaldTrump Trump nev...</td>\n",
       "      <td>['COVID19']</td>\n",
       "      <td>Twitter for Android</td>\n",
       "      <td>False</td>\n",
       "    </tr>\n",
       "    <tr>\n",
       "      <th>3</th>\n",
       "      <td>ethel mertz</td>\n",
       "      <td>Stuck in the Middle</td>\n",
       "      <td>#Browns #Indians #ClevelandProud #[]_[] #Cavs ...</td>\n",
       "      <td>3/7/2019 1:45</td>\n",
       "      <td>197.0</td>\n",
       "      <td>987.0</td>\n",
       "      <td>1488.0</td>\n",
       "      <td>False</td>\n",
       "      <td>7/25/2020 12:27</td>\n",
       "      <td>@brookbanktv The one gift #COVID19 has give me...</td>\n",
       "      <td>['COVID19']</td>\n",
       "      <td>Twitter for iPhone</td>\n",
       "      <td>False</td>\n",
       "    </tr>\n",
       "    <tr>\n",
       "      <th>4</th>\n",
       "      <td>DIPR-J&amp;K</td>\n",
       "      <td>Jammu and Kashmir</td>\n",
       "      <td>🖊️Official Twitter handle of Department of Inf...</td>\n",
       "      <td>2/12/2017 6:45</td>\n",
       "      <td>101009.0</td>\n",
       "      <td>168.0</td>\n",
       "      <td>101.0</td>\n",
       "      <td>False</td>\n",
       "      <td>7/25/2020 12:27</td>\n",
       "      <td>25 July : Media Bulletin on Novel #CoronaVirus...</td>\n",
       "      <td>['CoronaVirusUpdates', 'COVID19']</td>\n",
       "      <td>Twitter for Android</td>\n",
       "      <td>False</td>\n",
       "    </tr>\n",
       "    <tr>\n",
       "      <th>...</th>\n",
       "      <td>...</td>\n",
       "      <td>...</td>\n",
       "      <td>...</td>\n",
       "      <td>...</td>\n",
       "      <td>...</td>\n",
       "      <td>...</td>\n",
       "      <td>...</td>\n",
       "      <td>...</td>\n",
       "      <td>...</td>\n",
       "      <td>...</td>\n",
       "      <td>...</td>\n",
       "      <td>...</td>\n",
       "      <td>...</td>\n",
       "    </tr>\n",
       "    <tr>\n",
       "      <th>44962</th>\n",
       "      <td>Kira White</td>\n",
       "      <td>St.Helens Merseyside</td>\n",
       "      <td>My views, my opinions wrote by me... If I writ...</td>\n",
       "      <td>2/29/2020 21:05</td>\n",
       "      <td>13.0</td>\n",
       "      <td>76.0</td>\n",
       "      <td>75.0</td>\n",
       "      <td>False</td>\n",
       "      <td>7/31/2020 19:09</td>\n",
       "      <td>Love this cheered me up reminds me of #maskdeb...</td>\n",
       "      <td>['maskdebate', 'debate', 'COVID19']</td>\n",
       "      <td>Twitter for Android</td>\n",
       "      <td>False</td>\n",
       "    </tr>\n",
       "    <tr>\n",
       "      <th>44963</th>\n",
       "      <td>Ministry Of Education, Malawi</td>\n",
       "      <td>Lilongwe</td>\n",
       "      <td>NaN</td>\n",
       "      <td>4/17/2020 6:49</td>\n",
       "      <td>316.0</td>\n",
       "      <td>47.0</td>\n",
       "      <td>16.0</td>\n",
       "      <td>False</td>\n",
       "      <td>7/31/2020 19:09</td>\n",
       "      <td>COVID-19 Situation update as of Friday, 31st J...</td>\n",
       "      <td>['Malawi']</td>\n",
       "      <td>Twitter for Android</td>\n",
       "      <td>False</td>\n",
       "    </tr>\n",
       "    <tr>\n",
       "      <th>44964</th>\n",
       "      <td>Miss Amy</td>\n",
       "      <td>Los Angeles, CA</td>\n",
       "      <td>Program Leader in the LA Metro area.</td>\n",
       "      <td>7/14/2020 15:37</td>\n",
       "      <td>2.0</td>\n",
       "      <td>9.0</td>\n",
       "      <td>1.0</td>\n",
       "      <td>False</td>\n",
       "      <td>7/31/2020 19:09</td>\n",
       "      <td>#Congress needs to protect every child’s funda...</td>\n",
       "      <td>['Congress']</td>\n",
       "      <td>Twitter for iPhone</td>\n",
       "      <td>False</td>\n",
       "    </tr>\n",
       "    <tr>\n",
       "      <th>44965</th>\n",
       "      <td>Libbie for Justice</td>\n",
       "      <td>Windsor Heights, Iowa</td>\n",
       "      <td>Media Professional, Small Business Owner, Husb...</td>\n",
       "      <td>7/15/2008 1:29</td>\n",
       "      <td>3916.0</td>\n",
       "      <td>2949.0</td>\n",
       "      <td>288.0</td>\n",
       "      <td>False</td>\n",
       "      <td>7/31/2020 19:09</td>\n",
       "      <td>Welcome to The Freedom Cafe!  #COVID19. https:...</td>\n",
       "      <td>['COVID19']</td>\n",
       "      <td>Hootsuite Inc.</td>\n",
       "      <td>False</td>\n",
       "    </tr>\n",
       "    <tr>\n",
       "      <th>44966</th>\n",
       "      <td>Bud Geracie</td>\n",
       "      <td>San Jose, CA</td>\n",
       "      <td>Executive Sports Ed</td>\n",
       "      <td>NaN</td>\n",
       "      <td>NaN</td>\n",
       "      <td>NaN</td>\n",
       "      <td>NaN</td>\n",
       "      <td>NaN</td>\n",
       "      <td>NaN</td>\n",
       "      <td>NaN</td>\n",
       "      <td>NaN</td>\n",
       "      <td>NaN</td>\n",
       "      <td>NaN</td>\n",
       "    </tr>\n",
       "  </tbody>\n",
       "</table>\n",
       "<p>44967 rows × 13 columns</p>\n",
       "</div>"
      ],
      "text/plain": [
       "                           user_name          user_location  \\\n",
       "0                             ᏉᎥ☻լꂅϮ             astroworld   \n",
       "1                      Tom Basile 🇺🇸           New York, NY   \n",
       "2                    Time4fisticuffs       Pewee Valley, KY   \n",
       "3                        ethel mertz   Stuck in the Middle    \n",
       "4                           DIPR-J&K      Jammu and Kashmir   \n",
       "...                              ...                    ...   \n",
       "44962                     Kira White  St.Helens Merseyside    \n",
       "44963  Ministry Of Education, Malawi               Lilongwe   \n",
       "44964                       Miss Amy        Los Angeles, CA   \n",
       "44965             Libbie for Justice  Windsor Heights, Iowa   \n",
       "44966                    Bud Geracie           San Jose, CA   \n",
       "\n",
       "                                        user_description     user_created  \\\n",
       "0      wednesday addams as a disney princess keepin i...   5/26/2017 5:46   \n",
       "1      Husband, Father, Columnist & Commentator. Auth...  4/16/2009 20:06   \n",
       "2      #Christian #Catholic #Conservative #Reagan #Re...  2/28/2009 18:57   \n",
       "3      #Browns #Indians #ClevelandProud #[]_[] #Cavs ...    3/7/2019 1:45   \n",
       "4      🖊️Official Twitter handle of Department of Inf...   2/12/2017 6:45   \n",
       "...                                                  ...              ...   \n",
       "44962  My views, my opinions wrote by me... If I writ...  2/29/2020 21:05   \n",
       "44963                                                NaN   4/17/2020 6:49   \n",
       "44964               Program Leader in the LA Metro area.  7/14/2020 15:37   \n",
       "44965  Media Professional, Small Business Owner, Husb...   7/15/2008 1:29   \n",
       "44966                                Executive Sports Ed              NaN   \n",
       "\n",
       "       user_followers  user_friends  user_favourites user_verified  \\\n",
       "0               624.0         950.0          18775.0         False   \n",
       "1              2253.0        1677.0             24.0          True   \n",
       "2              9275.0        9525.0           7254.0         False   \n",
       "3               197.0         987.0           1488.0         False   \n",
       "4            101009.0         168.0            101.0         False   \n",
       "...               ...           ...              ...           ...   \n",
       "44962            13.0          76.0             75.0         False   \n",
       "44963           316.0          47.0             16.0         False   \n",
       "44964             2.0           9.0              1.0         False   \n",
       "44965          3916.0        2949.0            288.0         False   \n",
       "44966             NaN           NaN              NaN           NaN   \n",
       "\n",
       "                  date                                               text  \\\n",
       "0      7/25/2020 12:27  If I smelled the scent of hand sanitizers toda...   \n",
       "1      7/25/2020 12:27  Hey @Yankees @YankeesPR and @MLB - wouldn't it...   \n",
       "2      7/25/2020 12:27  @diane3443 @wdunlap @realDonaldTrump Trump nev...   \n",
       "3      7/25/2020 12:27  @brookbanktv The one gift #COVID19 has give me...   \n",
       "4      7/25/2020 12:27  25 July : Media Bulletin on Novel #CoronaVirus...   \n",
       "...                ...                                                ...   \n",
       "44962  7/31/2020 19:09  Love this cheered me up reminds me of #maskdeb...   \n",
       "44963  7/31/2020 19:09  COVID-19 Situation update as of Friday, 31st J...   \n",
       "44964  7/31/2020 19:09  #Congress needs to protect every child’s funda...   \n",
       "44965  7/31/2020 19:09  Welcome to The Freedom Cafe!  #COVID19. https:...   \n",
       "44966              NaN                                                NaN   \n",
       "\n",
       "                                  hashtags               source is_retweet  \n",
       "0                                      NaN   Twitter for iPhone      False  \n",
       "1                                      NaN  Twitter for Android      False  \n",
       "2                              ['COVID19']  Twitter for Android      False  \n",
       "3                              ['COVID19']   Twitter for iPhone      False  \n",
       "4        ['CoronaVirusUpdates', 'COVID19']  Twitter for Android      False  \n",
       "...                                    ...                  ...        ...  \n",
       "44962  ['maskdebate', 'debate', 'COVID19']  Twitter for Android      False  \n",
       "44963                           ['Malawi']  Twitter for Android      False  \n",
       "44964                         ['Congress']   Twitter for iPhone      False  \n",
       "44965                          ['COVID19']       Hootsuite Inc.      False  \n",
       "44966                                  NaN                  NaN        NaN  \n",
       "\n",
       "[44967 rows x 13 columns]"
      ]
     },
     "execution_count": 17,
     "metadata": {},
     "output_type": "execute_result"
    }
   ],
   "source": [
    "tw_df"
   ]
  },
  {
   "cell_type": "code",
   "execution_count": 18,
   "metadata": {},
   "outputs": [
    {
     "name": "stdout",
     "output_type": "stream",
     "text": [
      "Total tweets in this data: 44967\n",
      "Total Unique Users in this data: 28209\n"
     ]
    }
   ],
   "source": [
    "print('Total tweets in this data: {}'.format(tweets_df.shape[0]))\n",
    "print('Total Unique Users in this data: {}'.format(tweets_df['user_name'].nunique()))"
   ]
  },
  {
   "cell_type": "code",
   "execution_count": 19,
   "metadata": {},
   "outputs": [],
   "source": [
    "import jovian"
   ]
  },
  {
   "cell_type": "code",
   "execution_count": 20,
   "metadata": {},
   "outputs": [
    {
     "data": {
      "application/javascript": [
       "window.require && require([\"base/js/namespace\"],function(Jupyter){Jupyter.notebook.save_checkpoint()})"
      ],
      "text/plain": [
       "<IPython.core.display.Javascript object>"
      ]
     },
     "metadata": {},
     "output_type": "display_data"
    },
    {
     "name": "stdout",
     "output_type": "stream",
     "text": [
      "[jovian] Attempting to save notebook..\u001b[0m\n",
      "[jovian] Updating notebook \"maneesha-negi-2000/covid19-tweets-data-analysis\" on https://jovian.ml/\u001b[0m\n",
      "[jovian] Uploading notebook..\u001b[0m\n",
      "[jovian] Capturing environment..\u001b[0m\n",
      "[jovian] Committed successfully! https://jovian.ml/maneesha-negi-2000/covid19-tweets-data-analysis\u001b[0m\n"
     ]
    },
    {
     "data": {
      "text/plain": [
       "'https://jovian.ml/maneesha-negi-2000/covid19-tweets-data-analysis'"
      ]
     },
     "execution_count": 20,
     "metadata": {},
     "output_type": "execute_result"
    }
   ],
   "source": [
    "jovian.commit()"
   ]
  },
  {
   "cell_type": "markdown",
   "metadata": {},
   "source": [
    "## Exploratory Analysis and Visualization\n",
    "\n",
    "In this section we will analyze the data and draw some conclusions based on the analysis."
   ]
  },
  {
   "cell_type": "code",
   "execution_count": 21,
   "metadata": {},
   "outputs": [
    {
     "data": {
      "image/png": "[encoded data removed]",
      "text/plain": [
       "<Figure size 1008x504 with 1 Axes>"
      ]
     },
     "metadata": {
      "needs_background": "light"
     },
     "output_type": "display_data"
    }
   ],
   "source": [
    "#Total hashtags used in tweets\n",
    "\n",
    "tweets_df['hashtags'].value_counts().head(10).plot.bar(\n",
    "    figsize=(14, 7), fontsize=16, color='lightcoral'\n",
    ")\n",
    "plt.gca().set_title('Hastags Used in Tweets', fontsize=20)\n",
    "plt.gca().set_xticklabels(plt.gca().get_xticklabels(), rotation=45, ha='right', fontsize=16)\n",
    "pass"
   ]
  },
  {
   "cell_type": "code",
   "execution_count": 22,
   "metadata": {},
   "outputs": [
    {
     "data": {
      "text/html": [
       "<div>\n",
       "<style scoped>\n",
       "    .dataframe tbody tr th:only-of-type {\n",
       "        vertical-align: middle;\n",
       "    }\n",
       "\n",
       "    .dataframe tbody tr th {\n",
       "        vertical-align: top;\n",
       "    }\n",
       "\n",
       "    .dataframe thead th {\n",
       "        text-align: right;\n",
       "    }\n",
       "</style>\n",
       "<table border=\"1\" class=\"dataframe\">\n",
       "  <thead>\n",
       "    <tr style=\"text-align: right;\">\n",
       "      <th></th>\n",
       "      <th>user_followers</th>\n",
       "      <th>user_friends</th>\n",
       "      <th>user_favourites</th>\n",
       "    </tr>\n",
       "  </thead>\n",
       "  <tbody>\n",
       "    <tr>\n",
       "      <th>count</th>\n",
       "      <td>4.496600e+04</td>\n",
       "      <td>44966.000000</td>\n",
       "      <td>4.496600e+04</td>\n",
       "    </tr>\n",
       "    <tr>\n",
       "      <th>mean</th>\n",
       "      <td>1.222204e+05</td>\n",
       "      <td>2051.449095</td>\n",
       "      <td>1.444085e+04</td>\n",
       "    </tr>\n",
       "    <tr>\n",
       "      <th>std</th>\n",
       "      <td>8.833621e+05</td>\n",
       "      <td>8961.159897</td>\n",
       "      <td>4.539422e+04</td>\n",
       "    </tr>\n",
       "    <tr>\n",
       "      <th>min</th>\n",
       "      <td>0.000000e+00</td>\n",
       "      <td>0.000000</td>\n",
       "      <td>0.000000e+00</td>\n",
       "    </tr>\n",
       "    <tr>\n",
       "      <th>25%</th>\n",
       "      <td>1.600000e+02</td>\n",
       "      <td>134.000000</td>\n",
       "      <td>1.850000e+02</td>\n",
       "    </tr>\n",
       "    <tr>\n",
       "      <th>50%</th>\n",
       "      <td>9.160000e+02</td>\n",
       "      <td>507.000000</td>\n",
       "      <td>1.748000e+03</td>\n",
       "    </tr>\n",
       "    <tr>\n",
       "      <th>75%</th>\n",
       "      <td>5.321000e+03</td>\n",
       "      <td>1659.000000</td>\n",
       "      <td>9.468500e+03</td>\n",
       "    </tr>\n",
       "    <tr>\n",
       "      <th>max</th>\n",
       "      <td>1.389284e+07</td>\n",
       "      <td>497363.000000</td>\n",
       "      <td>2.047197e+06</td>\n",
       "    </tr>\n",
       "  </tbody>\n",
       "</table>\n",
       "</div>"
      ],
      "text/plain": [
       "       user_followers   user_friends  user_favourites\n",
       "count    4.496600e+04   44966.000000     4.496600e+04\n",
       "mean     1.222204e+05    2051.449095     1.444085e+04\n",
       "std      8.833621e+05    8961.159897     4.539422e+04\n",
       "min      0.000000e+00       0.000000     0.000000e+00\n",
       "25%      1.600000e+02     134.000000     1.850000e+02\n",
       "50%      9.160000e+02     507.000000     1.748000e+03\n",
       "75%      5.321000e+03    1659.000000     9.468500e+03\n",
       "max      1.389284e+07  497363.000000     2.047197e+06"
      ]
     },
     "execution_count": 22,
     "metadata": {},
     "output_type": "execute_result"
    }
   ],
   "source": [
    "tweets_df.describe()"
   ]
  },
  {
   "cell_type": "code",
   "execution_count": 23,
   "metadata": {},
   "outputs": [
    {
     "data": {
      "text/plain": [
       "GlobalPandemic.NET                         205\n",
       "Coronavirus Updates                        158\n",
       "covidnews.ch                               153\n",
       "Open Letters                               129\n",
       "Hindustan Times                            102\n",
       "                                          ... \n",
       "Willow B...Time to #EndAbuse!                1\n",
       "Healthcare Business                          1\n",
       "Darren * Refuses to say Ni * Richardson      1\n",
       "Beverly                                      1\n",
       "common sense                                 1\n",
       "Name: user_name, Length: 28209, dtype: int64"
      ]
     },
     "execution_count": 23,
     "metadata": {},
     "output_type": "execute_result"
    }
   ],
   "source": [
    "tweets_df['user_name'].value_counts()"
   ]
  },
  {
   "cell_type": "code",
   "execution_count": 24,
   "metadata": {},
   "outputs": [
    {
     "data": {
      "image/png": "[encoded data removed]",
      "text/plain": [
       "<Figure size 1440x720 with 1 Axes>"
      ]
     },
     "metadata": {
      "needs_background": "light"
     },
     "output_type": "display_data"
    }
   ],
   "source": [
    "top_users=tweets_df.groupby('user_name')['user_location'].count().reset_index()\n",
    "top_users.columns=['user_name','count']\n",
    "top_users.sort_values('count',ascending=False,inplace=True)\n",
    "top_users[0:10].plot(kind='scatter',x='user_name',y='count', figsize=(20, 10), fontsize=16)\n",
    "plt.xlabel('Users')\n",
    "plt.ylabel('Tweets')\n",
    "plt.title('Top tweeters')\n",
    "plt.show()"
   ]
  },
  {
   "cell_type": "code",
   "execution_count": 25,
   "metadata": {},
   "outputs": [],
   "source": [
    "locations=tweets_df['user_location'].replace('[^a-zA-Z0-9 ]', '', regex=True)\n",
    "tweets_df['user_location']=locations"
   ]
  },
  {
   "cell_type": "code",
   "execution_count": 26,
   "metadata": {},
   "outputs": [
    {
     "data": {
      "text/html": [
       "<div>\n",
       "<style scoped>\n",
       "    .dataframe tbody tr th:only-of-type {\n",
       "        vertical-align: middle;\n",
       "    }\n",
       "\n",
       "    .dataframe tbody tr th {\n",
       "        vertical-align: top;\n",
       "    }\n",
       "\n",
       "    .dataframe thead th {\n",
       "        text-align: right;\n",
       "    }\n",
       "</style>\n",
       "<table border=\"1\" class=\"dataframe\">\n",
       "  <thead>\n",
       "    <tr style=\"text-align: right;\">\n",
       "      <th></th>\n",
       "      <th>user_name</th>\n",
       "      <th>user_location</th>\n",
       "      <th>user_description</th>\n",
       "      <th>user_created</th>\n",
       "      <th>user_followers</th>\n",
       "      <th>user_friends</th>\n",
       "      <th>user_favourites</th>\n",
       "      <th>user_verified</th>\n",
       "      <th>date</th>\n",
       "      <th>text</th>\n",
       "      <th>hashtags</th>\n",
       "      <th>source</th>\n",
       "      <th>is_retweet</th>\n",
       "    </tr>\n",
       "  </thead>\n",
       "  <tbody>\n",
       "    <tr>\n",
       "      <th>0</th>\n",
       "      <td>ᏉᎥ☻լꂅϮ</td>\n",
       "      <td>astroworld</td>\n",
       "      <td>wednesday addams as a disney princess keepin i...</td>\n",
       "      <td>5/26/2017 5:46</td>\n",
       "      <td>624.0</td>\n",
       "      <td>950.0</td>\n",
       "      <td>18775.0</td>\n",
       "      <td>False</td>\n",
       "      <td>7/25/2020 12:27</td>\n",
       "      <td>If I smelled the scent of hand sanitizers toda...</td>\n",
       "      <td>NaN</td>\n",
       "      <td>Twitter for iPhone</td>\n",
       "      <td>False</td>\n",
       "    </tr>\n",
       "    <tr>\n",
       "      <th>1</th>\n",
       "      <td>Tom Basile 🇺🇸</td>\n",
       "      <td>New York NY</td>\n",
       "      <td>Husband, Father, Columnist &amp; Commentator. Auth...</td>\n",
       "      <td>4/16/2009 20:06</td>\n",
       "      <td>2253.0</td>\n",
       "      <td>1677.0</td>\n",
       "      <td>24.0</td>\n",
       "      <td>True</td>\n",
       "      <td>7/25/2020 12:27</td>\n",
       "      <td>Hey @Yankees @YankeesPR and @MLB - wouldn't it...</td>\n",
       "      <td>NaN</td>\n",
       "      <td>Twitter for Android</td>\n",
       "      <td>False</td>\n",
       "    </tr>\n",
       "    <tr>\n",
       "      <th>2</th>\n",
       "      <td>Time4fisticuffs</td>\n",
       "      <td>Pewee Valley KY</td>\n",
       "      <td>#Christian #Catholic #Conservative #Reagan #Re...</td>\n",
       "      <td>2/28/2009 18:57</td>\n",
       "      <td>9275.0</td>\n",
       "      <td>9525.0</td>\n",
       "      <td>7254.0</td>\n",
       "      <td>False</td>\n",
       "      <td>7/25/2020 12:27</td>\n",
       "      <td>@diane3443 @wdunlap @realDonaldTrump Trump nev...</td>\n",
       "      <td>['COVID19']</td>\n",
       "      <td>Twitter for Android</td>\n",
       "      <td>False</td>\n",
       "    </tr>\n",
       "    <tr>\n",
       "      <th>3</th>\n",
       "      <td>ethel mertz</td>\n",
       "      <td>Stuck in the Middle</td>\n",
       "      <td>#Browns #Indians #ClevelandProud #[]_[] #Cavs ...</td>\n",
       "      <td>3/7/2019 1:45</td>\n",
       "      <td>197.0</td>\n",
       "      <td>987.0</td>\n",
       "      <td>1488.0</td>\n",
       "      <td>False</td>\n",
       "      <td>7/25/2020 12:27</td>\n",
       "      <td>@brookbanktv The one gift #COVID19 has give me...</td>\n",
       "      <td>['COVID19']</td>\n",
       "      <td>Twitter for iPhone</td>\n",
       "      <td>False</td>\n",
       "    </tr>\n",
       "    <tr>\n",
       "      <th>4</th>\n",
       "      <td>DIPR-J&amp;K</td>\n",
       "      <td>Jammu and Kashmir</td>\n",
       "      <td>🖊️Official Twitter handle of Department of Inf...</td>\n",
       "      <td>2/12/2017 6:45</td>\n",
       "      <td>101009.0</td>\n",
       "      <td>168.0</td>\n",
       "      <td>101.0</td>\n",
       "      <td>False</td>\n",
       "      <td>7/25/2020 12:27</td>\n",
       "      <td>25 July : Media Bulletin on Novel #CoronaVirus...</td>\n",
       "      <td>['CoronaVirusUpdates', 'COVID19']</td>\n",
       "      <td>Twitter for Android</td>\n",
       "      <td>False</td>\n",
       "    </tr>\n",
       "  </tbody>\n",
       "</table>\n",
       "</div>"
      ],
      "text/plain": [
       "         user_name         user_location  \\\n",
       "0           ᏉᎥ☻լꂅϮ            astroworld   \n",
       "1    Tom Basile 🇺🇸           New York NY   \n",
       "2  Time4fisticuffs       Pewee Valley KY   \n",
       "3      ethel mertz  Stuck in the Middle    \n",
       "4         DIPR-J&K     Jammu and Kashmir   \n",
       "\n",
       "                                    user_description     user_created  \\\n",
       "0  wednesday addams as a disney princess keepin i...   5/26/2017 5:46   \n",
       "1  Husband, Father, Columnist & Commentator. Auth...  4/16/2009 20:06   \n",
       "2  #Christian #Catholic #Conservative #Reagan #Re...  2/28/2009 18:57   \n",
       "3  #Browns #Indians #ClevelandProud #[]_[] #Cavs ...    3/7/2019 1:45   \n",
       "4  🖊️Official Twitter handle of Department of Inf...   2/12/2017 6:45   \n",
       "\n",
       "   user_followers  user_friends  user_favourites user_verified  \\\n",
       "0           624.0         950.0          18775.0         False   \n",
       "1          2253.0        1677.0             24.0          True   \n",
       "2          9275.0        9525.0           7254.0         False   \n",
       "3           197.0         987.0           1488.0         False   \n",
       "4        101009.0         168.0            101.0         False   \n",
       "\n",
       "              date                                               text  \\\n",
       "0  7/25/2020 12:27  If I smelled the scent of hand sanitizers toda...   \n",
       "1  7/25/2020 12:27  Hey @Yankees @YankeesPR and @MLB - wouldn't it...   \n",
       "2  7/25/2020 12:27  @diane3443 @wdunlap @realDonaldTrump Trump nev...   \n",
       "3  7/25/2020 12:27  @brookbanktv The one gift #COVID19 has give me...   \n",
       "4  7/25/2020 12:27  25 July : Media Bulletin on Novel #CoronaVirus...   \n",
       "\n",
       "                            hashtags               source is_retweet  \n",
       "0                                NaN   Twitter for iPhone      False  \n",
       "1                                NaN  Twitter for Android      False  \n",
       "2                        ['COVID19']  Twitter for Android      False  \n",
       "3                        ['COVID19']   Twitter for iPhone      False  \n",
       "4  ['CoronaVirusUpdates', 'COVID19']  Twitter for Android      False  "
      ]
     },
     "execution_count": 26,
     "metadata": {},
     "output_type": "execute_result"
    }
   ],
   "source": [
    "tweets_df.reset_index(inplace=True,drop=True)\n",
    "tweets_df.head()"
   ]
  },
  {
   "cell_type": "code",
   "execution_count": 27,
   "metadata": {},
   "outputs": [],
   "source": [
    "tweets_df['date']=pd.to_datetime(tweets_df['date'])"
   ]
  },
  {
   "cell_type": "code",
   "execution_count": 28,
   "metadata": {},
   "outputs": [],
   "source": [
    "top_july = tweets_df['user_location'][pd.DatetimeIndex(tweets_df['date']).month == 7].value_counts()"
   ]
  },
  {
   "cell_type": "code",
   "execution_count": 29,
   "metadata": {},
   "outputs": [
    {
     "data": {
      "text/plain": [
       "<AxesSubplot:title={'center':'Top Countries Posting about Covid-19 in July'}, xlabel='Location', ylabel='user_location'>"
      ]
     },
     "execution_count": 29,
     "metadata": {},
     "output_type": "execute_result"
    },
    {
     "data": {
      "image/png": "[encoded data removed]",
      "text/plain": [
       "<Figure size 936x360 with 1 Axes>"
      ]
     },
     "metadata": {},
     "output_type": "display_data"
    }
   ],
   "source": [
    "#Top countries based on tweets in July\n",
    "\n",
    "fig, ax = plt.subplots(figsize = (13,5))\n",
    "plt.xlabel(\"Location\", fontsize = 14)\n",
    "plt.ylabel(\"NO. Tweets\", fontsize = 14)\n",
    "top_july[0:10].plot(kind='pie', title= \"Top Countries Posting about Covid-19 in July\" )"
   ]
  },
  {
   "cell_type": "code",
   "execution_count": 34,
   "metadata": {},
   "outputs": [],
   "source": [
    "import jovian"
   ]
  },
  {
   "cell_type": "code",
   "execution_count": 35,
   "metadata": {},
   "outputs": [
    {
     "data": {
      "application/javascript": [
       "window.require && require([\"base/js/namespace\"],function(Jupyter){Jupyter.notebook.save_checkpoint()})"
      ],
      "text/plain": [
       "<IPython.core.display.Javascript object>"
      ]
     },
     "metadata": {},
     "output_type": "display_data"
    },
    {
     "name": "stdout",
     "output_type": "stream",
     "text": [
      "[jovian] Attempting to save notebook..\u001b[0m\n",
      "[jovian] Updating notebook \"maneesha-negi-2000/covid19-tweets-data-analysis\" on https://jovian.ml/\u001b[0m\n",
      "[jovian] Uploading notebook..\u001b[0m\n",
      "[jovian] Capturing environment..\u001b[0m\n",
      "[jovian] Committed successfully! https://jovian.ml/maneesha-negi-2000/covid19-tweets-data-analysis\u001b[0m\n"
     ]
    },
    {
     "data": {
      "text/plain": [
       "'https://jovian.ml/maneesha-negi-2000/covid19-tweets-data-analysis'"
      ]
     },
     "execution_count": 35,
     "metadata": {},
     "output_type": "execute_result"
    }
   ],
   "source": [
    "jovian.commit()"
   ]
  },
  {
   "cell_type": "markdown",
   "metadata": {},
   "source": [
    "## Questions related to dataset\n",
    "\n",
    "In this section we will ask and answer interesting questions based on the analysis."
   ]
  },
  {
   "cell_type": "markdown",
   "metadata": {},
   "source": [
    "Question 1: What hashtags was trending during COVID19 tweets?"
   ]
  },
  {
   "cell_type": "code",
   "execution_count": 36,
   "metadata": {},
   "outputs": [
    {
     "data": {
      "text/plain": [
       "[Text(0, 0, \"['COVID19']\"),\n",
       " Text(1, 0, \"['Covid19']\"),\n",
       " Text(2, 0, \"['covid19']\"),\n",
       " Text(3, 0, \"['coronavirus', 'CoronaVirusUpdate', 'COVID19', 'CoronavirusPandemic']\"),\n",
       " Text(4, 0, \"['Coronavirus', 'COVID19']\"),\n",
       " Text(5, 0, \"['COVID19', 'coronavirus']\"),\n",
       " Text(6, 0, \"['coronavirus']\"),\n",
       " Text(7, 0, \"['coronavirus', 'COVID19']\"),\n",
       " Text(8, 0, \"['CoronaVirusUpdates', 'COVID19']\"),\n",
       " Text(9, 0, \"['IndiaFightsCorona', 'COVID19']\")]"
      ]
     },
     "execution_count": 36,
     "metadata": {},
     "output_type": "execute_result"
    },
    {
     "data": {
      "image/png": "[encoded data removed]",
      "text/plain": [
       "<Figure size 1008x504 with 1 Axes>"
      ]
     },
     "metadata": {
      "needs_background": "light"
     },
     "output_type": "display_data"
    }
   ],
   "source": [
    "tweets_df['hashtags'].value_counts().head(10).plot.bar(\n",
    "    figsize=(14, 7), fontsize=16, color='black'\n",
    ")\n",
    "plt.gca().set_title('Hastags Used in Tweets', fontsize=15)\n",
    "plt.gca().set_xticklabels(plt.gca().get_xticklabels(), rotation=45, ha='right', fontsize=16)\n",
    "pass"
   ]
  },
  {
   "cell_type": "markdown",
   "metadata": {},
   "source": [
    "Question 2: There were large number of users who tweets about COVID19. Lets find out the top 10 tweeters who tweet about COVID19 in large amount."
   ]
  },
  {
   "cell_type": "code",
   "execution_count": 39,
   "metadata": {},
   "outputs": [
    {
     "data": {
      "image/png": "[encoded data removed]",
      "text/plain": [
       "<Figure size 1440x720 with 1 Axes>"
      ]
     },
     "metadata": {
      "needs_background": "light"
     },
     "output_type": "display_data"
    }
   ],
   "source": [
    "top_users=tweets_df.groupby('user_name')['user_location'].count().reset_index()\n",
    "top_users.columns=['user_name','count']\n",
    "top_users.sort_values('count',ascending=False,inplace=True)\n",
    "top_users[0:5].plot(kind='bar',x='user_name',y='count', figsize=(20, 10), fontsize=16)\n",
    "plt.xlabel('Users')\n",
    "plt.ylabel('Tweets')\n",
    "plt.title('Top five tweeters')\n",
    "plt.show()"
   ]
  },
  {
   "cell_type": "markdown",
   "metadata": {},
   "source": [
    "Question 3: Find out the top 5 countries posting about COVID19. Show the data using Graph."
   ]
  },
  {
   "cell_type": "code",
   "execution_count": 41,
   "metadata": {},
   "outputs": [],
   "source": [
    "tweets_df['date']=pd.to_datetime(tweets_df['date'])"
   ]
  },
  {
   "cell_type": "code",
   "execution_count": 49,
   "metadata": {},
   "outputs": [],
   "source": [
    "top_ct = tweets_df['user_location'][pd.DatetimeIndex(tweets_df['date']).month == 7].value_counts()"
   ]
  },
  {
   "cell_type": "code",
   "execution_count": 51,
   "metadata": {},
   "outputs": [
    {
     "data": {
      "text/plain": [
       "<AxesSubplot:title={'center':'Top Countries Posting about Covid-19'}, xlabel='Location', ylabel='user_location'>"
      ]
     },
     "execution_count": 51,
     "metadata": {},
     "output_type": "execute_result"
    },
    {
     "data": {
      "image/png": "[encoded data removed]",
      "text/plain": [
       "<Figure size 936x360 with 1 Axes>"
      ]
     },
     "metadata": {},
     "output_type": "display_data"
    }
   ],
   "source": [
    "fig, ax = plt.subplots(figsize = (13,5))\n",
    "plt.xlabel(\"Location\", fontsize = 14)\n",
    "plt.ylabel(\"NO. Tweets\", fontsize = 14)\n",
    "top_ct[0:5].plot(kind='pie', title= \"Top Locations Posting about Covid-19\" )"
   ]
  },
  {
   "cell_type": "markdown",
   "metadata": {},
   "source": [
    "Question 4: What was the source of tweet of the users?"
   ]
  },
  {
   "cell_type": "code",
   "execution_count": 52,
   "metadata": {},
   "outputs": [],
   "source": [
    "source_of_tweets = tweets_df['source'].value_counts()"
   ]
  },
  {
   "cell_type": "code",
   "execution_count": 53,
   "metadata": {},
   "outputs": [
    {
     "data": {
      "text/plain": [
       "<AxesSubplot:>"
      ]
     },
     "execution_count": 53,
     "metadata": {},
     "output_type": "execute_result"
    },
    {
     "data": {
      "image/png": "[encoded data removed]",
      "text/plain": [
       "<Figure size 432x288 with 1 Axes>"
      ]
     },
     "metadata": {
      "needs_background": "light"
     },
     "output_type": "display_data"
    }
   ],
   "source": [
    "source_of_tweets[0:3].plot(kind='bar',color=['#FFFF48','#E82865',\n",
    "               '#005DB7'])"
   ]
  },
  {
   "cell_type": "markdown",
   "metadata": {},
   "source": [
    "Question 5: What is the number of verified and unverified user?"
   ]
  },
  {
   "cell_type": "code",
   "execution_count": 54,
   "metadata": {},
   "outputs": [],
   "source": [
    "user_status = tweets_df['user_verified'].value_counts()"
   ]
  },
  {
   "cell_type": "code",
   "execution_count": 55,
   "metadata": {},
   "outputs": [
    {
     "data": {
      "text/plain": [
       "([<matplotlib.axis.XTick at 0x7f747cf99370>,\n",
       "  <matplotlib.axis.XTick at 0x7f747cf99040>],\n",
       " [Text(False, 0, 'Unverified'), Text(True, 0, 'Verified')])"
      ]
     },
     "execution_count": 55,
     "metadata": {},
     "output_type": "execute_result"
    },
    {
     "data": {
      "image/png": "[encoded data removed]",
      "text/plain": [
       "<Figure size 432x288 with 1 Axes>"
      ]
     },
     "metadata": {
      "needs_background": "light"
     },
     "output_type": "display_data"
    }
   ],
   "source": [
    "user_status.plot(kind='bar')\n",
    "plt.xlabel(\"Account verification status\")\n",
    "plt.ylabel(\"Number of tweets\")\n",
    "plt.title(\"Verified account tweets vs Unverified account tweets\")\n",
    "plt.xticks([False,True],['Unverified','Verified'])"
   ]
  },
  {
   "cell_type": "code",
   "execution_count": 56,
   "metadata": {},
   "outputs": [],
   "source": [
    "import jovian"
   ]
  },
  {
   "cell_type": "code",
   "execution_count": 57,
   "metadata": {},
   "outputs": [
    {
     "data": {
      "application/javascript": [
       "window.require && require([\"base/js/namespace\"],function(Jupyter){Jupyter.notebook.save_checkpoint()})"
      ],
      "text/plain": [
       "<IPython.core.display.Javascript object>"
      ]
     },
     "metadata": {},
     "output_type": "display_data"
    },
    {
     "name": "stdout",
     "output_type": "stream",
     "text": [
      "[jovian] Attempting to save notebook..\u001b[0m\n",
      "[jovian] Updating notebook \"maneesha-negi-2000/covid19-tweets-data-analysis\" on https://jovian.ml/\u001b[0m\n",
      "[jovian] Uploading notebook..\u001b[0m\n",
      "[jovian] Capturing environment..\u001b[0m\n",
      "[jovian] Committed successfully! https://jovian.ml/maneesha-negi-2000/covid19-tweets-data-analysis\u001b[0m\n"
     ]
    },
    {
     "data": {
      "text/plain": [
       "'https://jovian.ml/maneesha-negi-2000/covid19-tweets-data-analysis'"
      ]
     },
     "execution_count": 57,
     "metadata": {},
     "output_type": "execute_result"
    }
   ],
   "source": [
    "jovian.commit()"
   ]
  },
  {
   "cell_type": "markdown",
   "metadata": {},
   "source": [
    "## Inferences and Conclusion\n",
    "\n",
    "In this project note book i have tried to analyze various tweets based on COVID19.\n",
    "While working on this project, i researched lot of information regarding pandas and plots.\n",
    "\n",
    "After the analysis we concluded that mostly tweets were made by the INDIAN users. This means that participation of INDIA is much higher than other countries.\n",
    "Also we have found that the users who tweets about COVID19 are mostly unverified users and there are very less amount of verified users who posts about COVID19.\n",
    "\n",
    "This project is just a begining. There is a lot more to learn.\n",
    "I have refered to the pandas, numpy, seaborn and matplotlib notebook from zero to pandas project to finish this project.\n",
    "I have done lot research as well to the learn the concepts of pandas and numpy."
   ]
  },
  {
   "cell_type": "code",
   "execution_count": 58,
   "metadata": {},
   "outputs": [],
   "source": [
    "import jovian"
   ]
  },
  {
   "cell_type": "code",
   "execution_count": 59,
   "metadata": {},
   "outputs": [
    {
     "data": {
      "application/javascript": [
       "window.require && require([\"base/js/namespace\"],function(Jupyter){Jupyter.notebook.save_checkpoint()})"
      ],
      "text/plain": [
       "<IPython.core.display.Javascript object>"
      ]
     },
     "metadata": {},
     "output_type": "display_data"
    },
    {
     "name": "stdout",
     "output_type": "stream",
     "text": [
      "[jovian] Attempting to save notebook..\u001b[0m\n",
      "[jovian] Updating notebook \"maneesha-negi-2000/covid19-tweets-data-analysis\" on https://jovian.ml/\u001b[0m\n",
      "[jovian] Uploading notebook..\u001b[0m\n",
      "[jovian] Capturing environment..\u001b[0m\n",
      "[jovian] Committed successfully! https://jovian.ml/maneesha-negi-2000/covid19-tweets-data-analysis\u001b[0m\n"
     ]
    },
    {
     "data": {
      "text/plain": [
       "'https://jovian.ml/maneesha-negi-2000/covid19-tweets-data-analysis'"
      ]
     },
     "execution_count": 59,
     "metadata": {},
     "output_type": "execute_result"
    }
   ],
   "source": [
    "jovian.commit()"
   ]
  },
  {
   "cell_type": "markdown",
   "metadata": {},
   "source": [
    "## References \n",
    "\n",
    "\n",
    "Dataset Link : https://www.kaggle.com/gpreda/covid19-tweets\n",
    "\n",
    "Course Link :https://jovian.ml/learn/data-analysis-with-python-zero-to-pandas\n",
    "\n",
    "Numerical computing with Numpy: https://jovian.ml/learn/data-analysis-with-python-zero-to-pandas/lesson/lesson-3-numerical-computing-with-numpy\n",
    "\n",
    "Analyzing tabular data with Pandas: https://jovian.ml/learn/data-analysis-with-python-zero-to-pandas/lesson/lesson-4-analyzing-tabular-data-with-pandas\n",
    "\n",
    "Matplotlib & Seaborn tutorial: https://jovian.ml/learn/data-analysis-with-python-zero-to-pandas/lesson/lesson-5-data-visualization-with-matplotlib-and-seaborn\n",
    "\n",
    "Pandas user guide: https://pandas.pydata.org/docs/user_guide/index.html\n",
    "\n",
    "Matplotlib user guide: https://matplotlib.org/3.3.1/users/index.html\n",
    "\n",
    "Seaborn user guide & tutorial: https://seaborn.pydata.org/tutorial.html"
   ]
  },
  {
   "cell_type": "code",
   "execution_count": 60,
   "metadata": {},
   "outputs": [],
   "source": [
    "import jovian"
   ]
  },
  {
   "cell_type": "code",
   "execution_count": 61,
   "metadata": {},
   "outputs": [
    {
     "data": {
      "application/javascript": [
       "window.require && require([\"base/js/namespace\"],function(Jupyter){Jupyter.notebook.save_checkpoint()})"
      ],
      "text/plain": [
       "<IPython.core.display.Javascript object>"
      ]
     },
     "metadata": {},
     "output_type": "display_data"
    },
    {
     "name": "stdout",
     "output_type": "stream",
     "text": [
      "[jovian] Attempting to save notebook..\u001b[0m\n",
      "[jovian] Updating notebook \"maneesha-negi-2000/covid19-tweets-data-analysis\" on https://jovian.ml/\u001b[0m\n",
      "[jovian] Uploading notebook..\u001b[0m\n",
      "[jovian] Capturing environment..\u001b[0m\n",
      "[jovian] Committed successfully! https://jovian.ml/maneesha-negi-2000/covid19-tweets-data-analysis\u001b[0m\n"
     ]
    },
    {
     "data": {
      "text/plain": [
       "'https://jovian.ml/maneesha-negi-2000/covid19-tweets-data-analysis'"
      ]
     },
     "execution_count": 61,
     "metadata": {},
     "output_type": "execute_result"
    }
   ],
   "source": [
    "jovian.commit()"
   ]
  },
  {
   "cell_type": "code",
   "execution_count": null,
   "metadata": {},
   "outputs": [],
   "source": []
  }
 ],
 "metadata": {
  "language_info": {
   "codemirror_mode": {
    "name": "ipython",
    "version": 3
   },
   "file_extension": ".py",
   "mimetype": "text/x-python",
   "name": "python",
   "nbconvert_exporter": "python",
   "pygments_lexer": "ipython3",
   "version": "3.8.5"
  }
 },
 "nbformat": 4,
 "nbformat_minor": 4
}